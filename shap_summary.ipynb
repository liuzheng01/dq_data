{
 "cells": [
  {
   "cell_type": "code",
   "execution_count": 9,
   "metadata": {},
   "outputs": [],
   "source": [
    "import pandas as pd\n",
    "from sklearn.model_selection import train_test_split\n",
    "from sklearn.preprocessing import StandardScaler\n",
    "from sklearn.linear_model import LogisticRegression\n",
    "from sklearn.ensemble import RandomForestClassifier, GradientBoostingClassifier\n",
    "from sklearn.svm import SVC\n",
    "from sklearn.calibration import CalibratedClassifierCV\n",
    "from sklearn.metrics import roc_curve, roc_auc_score\n",
    "import matplotlib.pyplot as plt\n",
    "import numpy as np\n",
    "from sklearn.utils import resample\n",
    "import matplotlib\n",
    "matplotlib.use('Agg')\n",
    "import matplotlib.pyplot as plt"
   ]
  },
  {
   "cell_type": "code",
   "execution_count": 10,
   "metadata": {},
   "outputs": [],
   "source": [
    "# Load the dataset\n",
    "file_path = 'D:\\\\ml\\\\DQ\\\\0904.xlsx' \n",
    "data = pd.read_excel(file_path)\n",
    "\n",
    "# Splitting the data into features and target variable\n",
    "X = data.drop('death', axis=1)\n",
    "y = data['death']\n",
    "\n",
    "# Splitting the dataset into training and testing sets\n",
    "X_train, X_test, y_train, y_test = train_test_split(X, y, test_size=0.2, random_state=42)\n",
    "\n",
    "# Standardizing the features\n",
    "scaler = StandardScaler()\n",
    "X_train = scaler.fit_transform(X_train)\n",
    "X_test = scaler.transform(X_test)\n",
    "\n",
    "# Initialize and train the logistic regression model\n",
    "log_reg = LogisticRegression(random_state=42)\n",
    "log_reg.fit(X_train, y_train)\n",
    "log_reg_probs = log_reg.predict_proba(X_test)[:, 1]\n",
    "\n",
    "# Initialize and train the random forest model\n",
    "rf = RandomForestClassifier(random_state=42)\n",
    "rf.fit(X_train, y_train)\n",
    "rf_probs = rf.predict_proba(X_test)[:, 1]\n",
    "\n",
    "# Initialize and calibrate the SVM model\n",
    "svm = SVC(probability=False, random_state=42)\n",
    "calibrated_svm = CalibratedClassifierCV(svm, method='sigmoid', cv=5)\n",
    "calibrated_svm.fit(X_train, y_train)\n",
    "svm_probs = calibrated_svm.predict_proba(X_test)[:, 1]\n",
    "\n",
    "# Initialize and train the gradient boosting model\n",
    "gb = GradientBoostingClassifier(random_state=42)\n",
    "gb.fit(X_train, y_train)\n",
    "gb_probs = gb.predict_proba(X_test)[:, 1]"
   ]
  },
  {
   "cell_type": "code",
   "execution_count": 11,
   "metadata": {},
   "outputs": [
    {
     "name": "stderr",
     "output_type": "stream",
     "text": [
      "Matplotlib is currently using agg, which is a non-GUI backend, so cannot show the figure.\n"
     ]
    }
   ],
   "source": [
    "# Function to compute Bootstrap AUC confidence interval\n",
    "def bootstrap_auc(y_true, y_scores, n_bootstraps=1000):\n",
    "    y_true = np.array(y_true)\n",
    "    bootstrapped_scores = []\n",
    "    rng = np.random.RandomState(42)\n",
    "\n",
    "    for i in range(n_bootstraps):\n",
    "        indices = rng.randint(0, len(y_scores), len(y_scores))\n",
    "        if len(np.unique(y_true[indices])) < 2:\n",
    "            continue\n",
    "        score = roc_auc_score(y_true[indices], y_scores[indices])\n",
    "        bootstrapped_scores.append(score)\n",
    "\n",
    "    sorted_scores = np.array(bootstrapped_scores)\n",
    "    sorted_scores.sort()\n",
    "\n",
    "    confidence_lower = sorted_scores[int(0.025 * len(sorted_scores))]\n",
    "    confidence_upper = sorted_scores[int(0.975 * len(sorted_scores))]\n",
    "    return confidence_lower, confidence_upper\n",
    "\n",
    "# Calculating the ROC curve and AUC for each model\n",
    "fpr_log_reg, tpr_log_reg, _ = roc_curve(y_test, log_reg_probs)\n",
    "auc_log_reg = roc_auc_score(y_test, log_reg_probs)\n",
    "\n",
    "fpr_rf, tpr_rf, _ = roc_curve(y_test, rf_probs)\n",
    "auc_rf = roc_auc_score(y_test, rf_probs)\n",
    "\n",
    "fpr_svm, tpr_svm, _ = roc_curve(y_test, svm_probs)\n",
    "auc_svm = roc_auc_score(y_test, svm_probs)\n",
    "\n",
    "fpr_gb, tpr_gb, _ = roc_curve(y_test, gb_probs)\n",
    "auc_gb = roc_auc_score(y_test, gb_probs)\n",
    "\n",
    "# Calculating the AUC confidence intervals for each model\n",
    "ci_log_reg = bootstrap_auc(y_test, log_reg_probs)\n",
    "ci_rf = bootstrap_auc(y_test, rf_probs)\n",
    "ci_svm = bootstrap_auc(y_test, svm_probs)\n",
    "ci_gb = bootstrap_auc(y_test, gb_probs)\n",
    "\n",
    "# Plotting the ROC curves with improved accessibility features\n",
    "plt.figure(figsize=(12, 10))\n",
    "\n",
    "# Plotting with different colors, line styles, and markers\n",
    "plt.plot(fpr_log_reg, tpr_log_reg, label=f'Logistic Regression (AUC = {auc_log_reg:.2f}, 95% CI: {ci_log_reg[0]:.2f}-{ci_log_reg[1]:.2f})', linestyle='-', marker='o', color='blue')\n",
    "plt.plot(fpr_rf, tpr_rf, label=f'Random Forest (AUC = {auc_rf:.2f}, 95% CI: {ci_rf[0]:.2f}-{ci_rf[1]:.2f})', linestyle='--', marker='s', color='orange')\n",
    "plt.plot(fpr_svm, tpr_svm, label=f'SVM (AUC = {auc_svm:.2f}, 95% CI: {ci_svm[0]:.2f}-{ci_svm[1]:.2f})', linestyle='-.', marker='^', color='purple')\n",
    "plt.plot(fpr_gb, tpr_gb, label=f'Gradient Boosting (AUC = {auc_gb:.2f}, 95% CI: {ci_gb[0]:.2f}-{ci_gb[1]:.2f})', linestyle=':', marker='d', color='brown')\n",
    "\n",
    "# Adding the 45-degree line for reference\n",
    "plt.plot([0, 1], [0, 1], color='navy', lw=2, linestyle='--')\n",
    "\n",
    "# Customizing the plot for better readability\n",
    "plt.xlabel('False Positive Rate', fontsize=14)\n",
    "plt.ylabel('True Positive Rate', fontsize=14)\n",
    "plt.title('ROC Curves with AUC and 95% Confidence Intervals', fontsize=16)\n",
    "plt.legend(loc=\"lower right\", fontsize=12)\n",
    "plt.grid(True)\n",
    "plt.xticks(fontsize=12)\n",
    "plt.yticks(fontsize=12)\n",
    "plt.tight_layout()\n",
    "\n",
    "# Show the plot\n",
    "#plt.savefig(\"roc2_curve.pdf\")\n",
    "plt.show()"
   ]
  },
  {
   "cell_type": "code",
   "execution_count": 2,
   "metadata": {},
   "outputs": [],
   "source": [
    "import shap"
   ]
  },
  {
   "cell_type": "code",
   "execution_count": 4,
   "metadata": {},
   "outputs": [],
   "source": [
    "# 创建一个TreeExplainer对象\n",
    "explainer_rf = shap.TreeExplainer(rf)\n",
    "\n",
    "# 计算测试集的SHAP值\n",
    "shap_values_rf = explainer_rf.shap_values(X_test)\n",
    "\n",
    "# 生成SHAP值的摘要图\n",
    "shap.summary_plot(shap_values_rf, X_test, feature_names=X.columns)\n",
    "plt.savefig(\"shap_summary_rf.pdf\", bbox_inches='tight')"
   ]
  },
  {
   "cell_type": "code",
   "execution_count": 5,
   "metadata": {},
   "outputs": [
    {
     "data": {
      "application/vnd.jupyter.widget-view+json": {
       "model_id": "7dde7781adbb4a968c84718ff1fecaed",
       "version_major": 2,
       "version_minor": 0
      },
      "text/plain": [
       "HBox(children=(HTML(value=''), FloatProgress(value=0.0, max=41.0), HTML(value='')))"
      ]
     },
     "metadata": {},
     "output_type": "display_data"
    },
    {
     "name": "stdout",
     "output_type": "stream",
     "text": [
      "\n"
     ]
    },
    {
     "name": "stderr",
     "output_type": "stream",
     "text": [
      "Matplotlib is currently using agg, which is a non-GUI backend, so cannot show the figure.\n"
     ]
    }
   ],
   "source": [
    "import matplotlib\n",
    "matplotlib.use('Agg')\n",
    "import matplotlib.pyplot as plt\n",
    "\n",
    "explainer_svm = shap.KernelExplainer(calibrated_svm.predict_proba, shap.sample(X_train, 100))\n",
    "shap_values_svm = explainer_svm.shap_values(shap.sample(X_test, 50))\n",
    "shap.summary_plot(shap_values_svm, shap.sample(X_test, 50), feature_names=X.columns)\n",
    "plt.savefig(\"shap_summary_svm.pdf\", bbox_inches='tight')"
   ]
  },
  {
   "cell_type": "code",
   "execution_count": 7,
   "metadata": {},
   "outputs": [
    {
     "data": {
      "application/vnd.jupyter.widget-view+json": {
       "model_id": "8cc0d801d40e46a599dedc10b4bea8ea",
       "version_major": 2,
       "version_minor": 0
      },
      "text/plain": [
       "HBox(children=(HTML(value=''), FloatProgress(value=0.0, max=41.0), HTML(value='')))"
      ]
     },
     "metadata": {},
     "output_type": "display_data"
    },
    {
     "name": "stdout",
     "output_type": "stream",
     "text": [
      "\n"
     ]
    },
    {
     "name": "stderr",
     "output_type": "stream",
     "text": [
      "Matplotlib is currently using agg, which is a non-GUI backend, so cannot show the figure.\n"
     ]
    }
   ],
   "source": [
    "# 逻辑回归模型的预测概率函数\n",
    "def log_reg_predict_proba(X):\n",
    "    return log_reg.predict_proba(X)\n",
    "\n",
    "# 使用KernelExplainer和逻辑回归模型的预测概率函数\n",
    "explainer_log_reg = shap.KernelExplainer(log_reg_predict_proba, shap.sample(X_train, 100))\n",
    "\n",
    "# 计算测试集的SHAP值，这里我们对测试集进行采样以减少计算量\n",
    "shap_values_log_reg = explainer_log_reg.shap_values(shap.sample(X_test, 50))\n",
    "\n",
    "# 生成SHAP值的摘要图\n",
    "shap.summary_plot(shap_values_log_reg, shap.sample(X_test, 50), feature_names=X.columns)\n",
    "plt.savefig(\"shap_summary_lr.pdf\", bbox_inches='tight')"
   ]
  },
  {
   "cell_type": "code",
   "execution_count": 8,
   "metadata": {},
   "outputs": [
    {
     "data": {
      "application/vnd.jupyter.widget-view+json": {
       "model_id": "d7b3381fab46470aaf891080c81abd22",
       "version_major": 2,
       "version_minor": 0
      },
      "text/plain": [
       "HBox(children=(HTML(value=''), FloatProgress(value=0.0, max=41.0), HTML(value='')))"
      ]
     },
     "metadata": {},
     "output_type": "display_data"
    },
    {
     "name": "stdout",
     "output_type": "stream",
     "text": [
      "\n"
     ]
    },
    {
     "name": "stderr",
     "output_type": "stream",
     "text": [
      "Matplotlib is currently using agg, which is a non-GUI backend, so cannot show the figure.\n"
     ]
    }
   ],
   "source": [
    "# 定义梯度提升模型的预测概率函数\n",
    "def gb_predict_proba(X):\n",
    "    return gb.predict_proba(X)\n",
    "\n",
    "# 使用KernelExplainer\n",
    "explainer_gb = shap.KernelExplainer(gb_predict_proba, shap.sample(X_train, 100))\n",
    "\n",
    "# 计算测试集的SHAP值，这里我们对测试集进行采样以减少计算量\n",
    "shap_values_gb = explainer_gb.shap_values(shap.sample(X_test, 50))\n",
    "\n",
    "# 生成SHAP值的摘要图并保存为PDF\n",
    "shap.summary_plot(shap_values_gb, shap.sample(X_test, 50), feature_names=X.columns)\n",
    "# 保存图像为PDF文件\n",
    "plt.savefig(\"shap_summary_gb.pdf\", bbox_inches='tight')\n",
    "plt.close()"
   ]
  },
  {
   "cell_type": "code",
   "execution_count": null,
   "metadata": {},
   "outputs": [],
   "source": []
  }
 ],
 "metadata": {
  "kernelspec": {
   "display_name": "Python 3",
   "language": "python",
   "name": "python3"
  },
  "language_info": {
   "codemirror_mode": {
    "name": "ipython",
    "version": 3
   },
   "file_extension": ".py",
   "mimetype": "text/x-python",
   "name": "python",
   "nbconvert_exporter": "python",
   "pygments_lexer": "ipython3",
   "version": "3.8.5"
  }
 },
 "nbformat": 4,
 "nbformat_minor": 4
}
